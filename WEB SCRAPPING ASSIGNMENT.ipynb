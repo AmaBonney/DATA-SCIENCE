{
  "nbformat": 4,
  "nbformat_minor": 0,
  "metadata": {
    "colab": {
      "name": "Untitled1.ipynb",
      "provenance": []
    },
    "kernelspec": {
      "name": "python3",
      "display_name": "Python 3"
    },
    "language_info": {
      "name": "python"
    }
  },
  "cells": [
    {
      "cell_type": "code",
      "execution_count": null,
      "metadata": {
        "id": "Q-8UUy7QtjtN"
      },
      "outputs": [],
      "source": [
        "from urllib.request import Request,urlopen\n",
        "from bs4 import BeautifulSoup as soup\n",
        "\n",
        "\n",
        "url = 'https://www.jumia.com.gh/laptops/'\n",
        "request = Request(url, headers={'User-Agent': 'Mozilla/5.0'})\n",
        "page = urlopen(request).read()\n",
        "page"
      ]
    },
    {
      "cell_type": "code",
      "source": [
        "web_page_soup = soup(page, \"html.parser\")\n",
        "products = [pro.get_text() for pro in web_page_soup .select(\".info .name\")]\n",
        "price = [cost.get_text() for cost in web_page_soup .select(\".info .prc\")]\n",
        "\n",
        "import pandas as pd\n",
        "# import pandas library\n",
        "df = pd.DataFrame({\n",
        "    \"name\": products,\n",
        "    \"Price\": price,\n",
        "    \n",
        "})\n",
        "df "
      ],
      "metadata": {
        "id": "droF1oj8ujuF"
      },
      "execution_count": null,
      "outputs": []
    },
    {
      "cell_type": "code",
      "source": [
        "df .to_csv(\"Assignment.csv\")"
      ],
      "metadata": {
        "id": "LAT0tW7tvDPD"
      },
      "execution_count": null,
      "outputs": []
    }
  ]
}